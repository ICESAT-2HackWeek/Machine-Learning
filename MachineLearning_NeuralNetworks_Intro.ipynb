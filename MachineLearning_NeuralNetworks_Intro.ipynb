{
 "cells": [
  {
   "cell_type": "markdown",
   "metadata": {},
   "source": [
    "# ICESat-2 Hackweek 2020: Machine Learning"
   ]
  },
  {
   "cell_type": "markdown",
   "metadata": {},
   "source": [
    "#### Yara Mohajerani ([ymohajer@uci.edu](mailto:ymohajer@uci.edu))"
   ]
  },
  {
   "cell_type": "markdown",
   "metadata": {},
   "source": [
    "**Note** Before going through this tutorial, make sure you have the correction environment by running\n",
    "\n",
    "`conda create --name <env> --file mlenv.lock`\n",
    "with the `mlenv.lock` file being in this repositoriy, and choose the this environment for your kernel.\n",
    "\n",
    "---\n",
    "\n",
    "In this tutorial we will explore the basics of machine learning with an emphasize on neural networks and applications in altimetry. First we will offer a brief introduction to theory and techniques in implementing neural networks, and then will focus on altimetry applications.\n",
    "\n",
    "## Motivation\n",
    "Advances in machine learning have made it a valuable tool for extracting insights from large datasets without the need for developing exact analytical algorithms. In particular, this has proven extremely useful for altimetry applications. For example, imagine you have thousands of satellite images and you want to identify paricular features automatically in the dataset. One way is to manually go through the data, which is not practical. The second way is to come up with an analytical algorithm that uses explicit engineered laws to detect the desired features. This is not very easy or robust, to say the least. But machine learning methods can learn to perform the desired task from the data in an approximate manner. Specifically, *supervised* methods use the data along with the desired outputs to accomplish the learning task. Here we will focus on supervised machine learning. An extremely useful subset of supervised machine learning fields is *neural networks*, which will be discussed in this notebook.\n",
    "\n",
    "Given the shear volume of altimetry data from ICESat-2, the is huge potential in extracting insights from the data with machine learning that were not possible before. Keep in mind that machine learning is a big field and here we focus on only a few specific approaches and a few computational tools. Specifically, we will focus on neural networks largely implemented in `keras`.\n",
    "\n",
    "---\n",
    "Introduction to neural networks\n",
    "---\n",
    "\n",
    "Neural networks use a series of nonlinear transformations with adjustable (trainable) parameters to approximate an input field into a desired output.\n",
    "\n",
    "Each 'cell' or unit of a network has an associated weight $w$ and bias $b$, and an activation function $f(z)$ for applying a nonlinear transformation such that the output is\n",
    "\n",
    "$$\n",
    "\\begin{aligned}\n",
    " f(w.x + b)\n",
    "\\end{aligned}\n",
    "$$\n",
    "\n",
    "for input $x$.\n",
    "\n",
    "Some examples of activation functions are \n",
    "Sigmoid:\n",
    "\n",
    "$$\n",
    "\\begin{aligned}\n",
    " f(z) = \\frac{1}{1+e^{-z}}\n",
    "\\end{aligned}\n",
    "$$\n",
    "\n",
    "Rectified Linear Unit (ReLU):\n",
    "\n",
    "$$\n",
    "\\begin{aligned}\n",
    " f(z) = \\max(0,z)\n",
    "\\end{aligned}\n",
    "$$\n",
    "\n",
    "And many others, which is beyond the scope of this brief tutorial. There are many excellent resources on the choice activation functions (e.g. [Neural Networks and Deep Learning by Michael Nielson](http://neuralnetworksanddeeplearning.com/chap3.html))\n",
    "\n",
    "\n",
    "A neural network contains many layers of nodes to accomplish more involved transformations. Note that each unit only has one adjustable bias $b$, but each precedening connected note has a weight $w$ associated with it. All the weighted inputs are summed such that the output is\n",
    "\n",
    "$$\n",
    "\\begin{aligned}\n",
    " f(b+\\sum_{i} w_ix_i)\n",
    "\\end{aligned}\n",
    "$$\n",
    "\n",
    "\n",
    "![Neural network generic example fromw ww.astroml.org](https://www.astroml.org/_images/fig_neural_network_1.png)\n",
    "<sub>Schematic from [AstroML](https://www.astroml.org/book_figures/chapter9/fig_neural_network.html#book-fig-chapter9-fig-neural-network)\n",
    "    \n",
    "    Figure produced by code under BSD license authored by Jake VanderPlas & Brigitta Sipocz.\n",
    "    The figure produced by this code is published in the textbook \"Statistics, Data Mining, and Machine Learning in Astronomy\" (2019)\n",
    "    For more information, see http://astroML.github.com\n",
    "</sub>"
   ]
  },
  {
   "cell_type": "markdown",
   "metadata": {},
   "source": [
    "Packages like PyTorch and TensforFlow provide the tools to contruct neural networks in Python. However, here we focus on Keras, a higher-level package which makes it easier to contruct a network.\n",
    "\n",
    "Here as an example we will contruct a simple model for the quintessential machine learning example of identifying handwritten digits (MNIST dataset)."
   ]
  },
  {
   "cell_type": "markdown",
   "metadata": {},
   "source": [
    "#### 1) Get data and develop neural network"
   ]
  },
  {
   "cell_type": "code",
   "execution_count": 1,
   "metadata": {},
   "outputs": [
    {
     "name": "stderr",
     "output_type": "stream",
     "text": [
      "Using TensorFlow backend.\n"
     ]
    }
   ],
   "source": [
    "#--  import required packages\n",
    "import keras\n",
    "import numpy as np\n",
    "from keras.datasets import mnist\n",
    "from keras.layers import Dense, Activation\n",
    "from keras.utils import plot_model\n",
    "import matplotlib.pyplot as plt"
   ]
  },
  {
   "cell_type": "code",
   "execution_count": 2,
   "metadata": {},
   "outputs": [],
   "source": [
    "#-- Get built-in MNIST data from keras\n",
    "#-- \"Dataset of 60,000 28x28 grayscale images of the 10 digits, along with a test set of 10,000 images.\"\"\n",
    "#-- https://keras.io/datasets/#mnist-database-of-handwritten-digits\n",
    "(x_train, y_train), (x_test, y_test) = mnist.load_data()"
   ]
  },
  {
   "cell_type": "code",
   "execution_count": 3,
   "metadata": {},
   "outputs": [
    {
     "data": {
      "image/png": "[encoded data removed]",
      "text/plain": [
       "<Figure size 1152x360 with 20 Axes>"
      ]
     },
     "metadata": {
      "needs_background": "light"
     },
     "output_type": "display_data"
    }
   ],
   "source": [
    "fig, ax = plt.subplots(1, 20, figsize=(16,5))\n",
    "for i in range(20):\n",
    "    ax[i].imshow(x_train[i],cmap='binary')\n",
    "    ax[i].set_title(y_train[i])\n",
    "    ax[i].axis('off')\n",
    "plt.show()"
   ]
  },
  {
   "cell_type": "code",
   "execution_count": 4,
   "metadata": {},
   "outputs": [],
   "source": [
    "#-- Turn the trainign labels (indicating which number each image is), into one-hot encoding\n",
    "#-- e.g. 3 --> [0,0,0,1,0,0,0,0,0,0]\n",
    "onehot_train = keras.utils.to_categorical(y_train, num_classes=10)"
   ]
  },
  {
   "cell_type": "code",
   "execution_count": 5,
   "metadata": {},
   "outputs": [],
   "source": [
    "#-- Make sequential model\n",
    "model = keras.Sequential()\n",
    "#-- \"Dense implements the operation: output = activation(dot(input, kernel) + bias)\"\n",
    "#-- https://keras.io/layers/core/\n",
    "#-- first hidden layer has 64 units, and input is 28*28 which is the flattened input data\n",
    "model.add(Dense(64, activation='relu', input_dim=x_train.shape[1]*x_train.shape[2]))\n",
    "model.add(Dense(32, activation='relu', input_dim=32))\n",
    "model.add(Dense(10, activation='softmax'))"
   ]
  },
  {
   "cell_type": "markdown",
   "metadata": {},
   "source": [
    "This is categorical classification with 10 classes (0-9), hence 10 units in the last layer. We compile the model with a `categorical_crossentropy` loss function used to train the model."
   ]
  },
  {
   "cell_type": "code",
   "execution_count": 6,
   "metadata": {},
   "outputs": [],
   "source": [
    "model.compile(optimizer='adam',     # optimization algorithm used (other examples include scholastic gradient descent, etc)\n",
    "              loss='categorical_crossentropy',\n",
    "              metrics=['accuracy']) # quantity to be minimized"
   ]
  },
  {
   "cell_type": "code",
   "execution_count": 7,
   "metadata": {},
   "outputs": [
    {
     "name": "stdout",
     "output_type": "stream",
     "text": [
      "Epoch 1/20\n",
      "60000/60000 [==============================] - 2s 34us/step - loss: 1.7447 - accuracy: 0.6117\n",
      "Epoch 2/20\n",
      "60000/60000 [==============================] - 2s 32us/step - loss: 0.6161 - accuracy: 0.8008\n",
      "Epoch 3/20\n",
      "60000/60000 [==============================] - 2s 29us/step - loss: 0.4028 - accuracy: 0.8686\n",
      "Epoch 4/20\n",
      "60000/60000 [==============================] - 2s 29us/step - loss: 0.3024 - accuracy: 0.9074\n",
      "Epoch 5/20\n",
      "60000/60000 [==============================] - 2s 29us/step - loss: 0.2193 - accuracy: 0.9406\n",
      "Epoch 6/20\n",
      "60000/60000 [==============================] - 2s 28us/step - loss: 0.1752 - accuracy: 0.9547\n",
      "Epoch 7/20\n",
      "60000/60000 [==============================] - 2s 28us/step - loss: 0.1454 - accuracy: 0.9614\n",
      "Epoch 8/20\n",
      "60000/60000 [==============================] - 2s 29us/step - loss: 0.1315 - accuracy: 0.9640\n",
      "Epoch 9/20\n",
      "60000/60000 [==============================] - 2s 30us/step - loss: 0.1177 - accuracy: 0.9682\n",
      "Epoch 10/20\n",
      "60000/60000 [==============================] - 2s 30us/step - loss: 0.1080 - accuracy: 0.9717\n",
      "Epoch 11/20\n",
      "60000/60000 [==============================] - 2s 29us/step - loss: 0.0980 - accuracy: 0.9728\n",
      "Epoch 12/20\n",
      "60000/60000 [==============================] - 2s 29us/step - loss: 0.0988 - accuracy: 0.9738\n",
      "Epoch 13/20\n",
      "60000/60000 [==============================] - 2s 28us/step - loss: 0.0868 - accuracy: 0.9770\n",
      "Epoch 14/20\n",
      "60000/60000 [==============================] - 2s 31us/step - loss: 0.0850 - accuracy: 0.9777\n",
      "Epoch 15/20\n",
      "60000/60000 [==============================] - 2s 30us/step - loss: 0.0808 - accuracy: 0.9783\n",
      "Epoch 16/20\n",
      "60000/60000 [==============================] - 2s 31us/step - loss: 0.0767 - accuracy: 0.9801\n",
      "Epoch 17/20\n",
      "60000/60000 [==============================] - 2s 28us/step - loss: 0.0733 - accuracy: 0.9809\n",
      "Epoch 18/20\n",
      "60000/60000 [==============================] - 2s 28us/step - loss: 0.0710 - accuracy: 0.9814\n",
      "Epoch 19/20\n",
      "60000/60000 [==============================] - 2s 37us/step - loss: 0.0717 - accuracy: 0.9817\n",
      "Epoch 20/20\n",
      "60000/60000 [==============================] - 2s 36us/step - loss: 0.0648 - accuracy: 0.9825\n"
     ]
    },
    {
     "data": {
      "text/plain": [
       "<keras.callbacks.callbacks.History at 0x7fb1cd2b7fd0>"
      ]
     },
     "execution_count": 7,
     "metadata": {},
     "output_type": "execute_result"
    }
   ],
   "source": [
    "#-- Train model (20 epochs, with batch sizes of 32)\n",
    "#-- batch size is number if data points used in each training iteration\n",
    "#-- epoch is total number of times the whole dataset is used.\n",
    "#-- so total number of iterations is total_size/batch_size * epochs\n",
    "model.fit(x_train.reshape(x_train.shape[0],x_train.shape[1]*x_train.shape[2]),\n",
    "          onehot_train, epochs=20, batch_size=32)"
   ]
  },
  {
   "cell_type": "markdown",
   "metadata": {},
   "source": [
    "#### 2) Evaluate model"
   ]
  },
  {
   "cell_type": "code",
   "execution_count": 8,
   "metadata": {},
   "outputs": [
    {
     "name": "stdout",
     "output_type": "stream",
     "text": [
      "10000/10000 [==============================] - 0s 15us/step\n"
     ]
    },
    {
     "data": {
      "text/plain": [
       "[0.20141993429088034, 0.9635999798774719]"
      ]
     },
     "execution_count": 8,
     "metadata": {},
     "output_type": "execute_result"
    }
   ],
   "source": [
    "#-- turn testing labels to one-hot encoded\n",
    "onehot_test = keras.utils.to_categorical(y_test, num_classes=10)\n",
    "#-- evaluate performance of model\n",
    "#-- Returns the loss value & metrics value, which in this case is accuracy\n",
    "model.evaluate(x=x_test.reshape(x_test.shape[0],x_test.shape[1]*x_test.shape[2]),\n",
    "               y=onehot_test, verbose=1)"
   ]
  },
  {
   "cell_type": "markdown",
   "metadata": {},
   "source": [
    "With this simple 4-layer model with get $~97\\%$ accuracy!"
   ]
  },
  {
   "cell_type": "markdown",
   "metadata": {},
   "source": [
    "---\n",
    "# Regression Exercise with Neural Networks with ATL03-like data\n",
    "---\n",
    "Before breaking into groups, we will do the set up of the problem together.\n",
    "\n",
    "The goal is to now do a regerssion problem. You will have to figure out a way to alter the architecture of the neural network to provide an output that is not a set of classifications, but a regression parameter.\n",
    "\n",
    "First we will create simulated ATL03 data by creating a noisy dataset of a series of patches with linear features and Gaussian noise."
   ]
  },
  {
   "cell_type": "code",
   "execution_count": 9,
   "metadata": {},
   "outputs": [],
   "source": [
    "#-- create 2000 line segments in tiles with width 50 and add Guassian noise\n",
    "n_tiles = 2000\n",
    "w = 40\n",
    "pts = 30 # number of poits to sample\n",
    "repeat = 3 # number of times to repeat the noise addition at each coordinate\n",
    "\n",
    "# Fixing random state for reproducibility\n",
    "np.random.seed(13)\n",
    "\n",
    "#-- training data has dimensions: # of tilesm, # of points, 2 for the x,y coords of points\n",
    "x = np.empty((n_tiles,pts*repeat,2),dtype=float)\n",
    "#-- we choose a random slope and intercept in the range -4 to 4 for both, with uniform distribution\n",
    "y = np.random.uniform(-4,4,(n_tiles,2))\n",
    "\n",
    "#-- Now populate x with noisy data\n",
    "#-- to make the data more similar to ATL03, we will have multiple y values for each x value\n",
    "for i in range(n_tiles):\n",
    "    #-- create line \n",
    "    line = y[i,0] + np.arange(w)*y[i,1] + np.random.normal(loc=0,scale=5,size=w)\n",
    "    #-- randomly select `pts` number of points\n",
    "    inds = np.random.randint(0,high=w,size=pts)\n",
    "    for r in range(repeat):\n",
    "        x[i,r*pts:(r+1)*pts,0] = inds\n",
    "        # Add Gaussian noise with standard deviation 10\n",
    "        x[i,r*pts:(r+1)*pts,1] = line[inds] + np.random.normal(loc=0,scale=10,size=pts)"
   ]
  },
  {
   "cell_type": "code",
   "execution_count": 10,
   "metadata": {},
   "outputs": [
    {
     "data": {
      "text/plain": [
       "array([], dtype=int64)"
      ]
     },
     "execution_count": 10,
     "metadata": {},
     "output_type": "execute_result"
    }
   ],
   "source": [
    "#-- Separate 10% of elements for testing\n",
    "#-- randomly extract indices for 10% of elements\n",
    "ii = np.random.randint(0,high=n_tiles,size=int(n_tiles*0.1))\n",
    "x_test = x[ii]\n",
    "y_test = y[ii]\n",
    "#-- set the rest for training by getting difference between union and intersection\n",
    "jj = np.setdiff1d(np.union1d(np.arange(n_tiles), ii), np.intersect1d(np.arange(n_tiles), ii))\n",
    "x_train = x[jj]\n",
    "y_train = y[jj]\n",
    "#-- make sure there are no overlapping elements\n",
    "np.intersect1d(ii,jj)"
   ]
  },
  {
   "cell_type": "code",
   "execution_count": 11,
   "metadata": {},
   "outputs": [
    {
     "data": {
      "image/png": "[encoded data removed]",
      "text/plain": [
       "<Figure size 1152x288 with 4 Axes>"
      ]
     },
     "metadata": {
      "needs_background": "light"
     },
     "output_type": "display_data"
    }
   ],
   "source": [
    "#-- Plot some example tiles\n",
    "fig,ax = plt.subplots(1, 4,figsize=(16,4))\n",
    "#-- loop over to plot the first 4 tiles\n",
    "for i in range(4):\n",
    "    ax[i].plot(x[i,:,0],x[i,:,1],'bo')\n",
    "    ax[i].plot(np.arange(w),y[i,0] + np.arange(w)*y[i,1],'r-')\n",
    "plt.show()"
   ]
  },
  {
   "cell_type": "markdown",
   "metadata": {},
   "source": [
    "# Breakout (15 minutes)\n",
    "Try to create a neural network that learn from the examples above and get the slope and coefficient for a given linear feature."
   ]
  },
  {
   "cell_type": "code",
   "execution_count": null,
   "metadata": {},
   "outputs": [],
   "source": []
  },
  {
   "cell_type": "markdown",
   "metadata": {},
   "source": [
    "\n",
    "\n",
    "---\n",
    "### Solution:"
   ]
  },
  {
   "cell_type": "code",
   "execution_count": 12,
   "metadata": {
    "scrolled": true
   },
   "outputs": [
    {
     "name": "stdout",
     "output_type": "stream",
     "text": [
      "Model: \"sequential_2\"\n",
      "_________________________________________________________________\n",
      "Layer (type)                 Output Shape              Param #   \n",
      "=================================================================\n",
      "dense_4 (Dense)              (None, 128)               23168     \n",
      "_________________________________________________________________\n",
      "dense_5 (Dense)              (None, 256)               33024     \n",
      "_________________________________________________________________\n",
      "dense_6 (Dense)              (None, 256)               65792     \n",
      "_________________________________________________________________\n",
      "dense_7 (Dense)              (None, 2)                 514       \n",
      "=================================================================\n",
      "Total params: 122,498\n",
      "Trainable params: 122,498\n",
      "Non-trainable params: 0\n",
      "_________________________________________________________________\n"
     ]
    }
   ],
   "source": [
    "model2 = keras.Sequential()\n",
    "\n",
    "model2.add(Dense(128, activation='relu', input_dim=x.shape[1]*x.shape[2]))\n",
    "model2.add(Dense(256, activation='relu'))\n",
    "model2.add(Dense(256, activation='relu'))\n",
    "#-- for final model we use a simple linear activation, which simply returns the input unmodified\n",
    "model2.add(Dense(2, activation='linear'))\n",
    "\n",
    "#-- we use a mean absolute error as the loss function\n",
    "model2.compile(loss='mean_squared_error', optimizer='adam', metrics=['accuracy'])\n",
    "model2.summary()"
   ]
  },
  {
   "cell_type": "markdown",
   "metadata": {},
   "source": [
    "As a side note, in addition to summarizing the model as above, we can also plot it. This is particularly useful as models get larger and more complex with less linear architectures such as skip-connections, parallel layers, etc. that are outside of the scope of this tutorial."
   ]
  },
  {
   "cell_type": "code",
   "execution_count": 13,
   "metadata": {},
   "outputs": [
    {
     "data": {
      "image/png": "[encoded data removed]",
      "text/plain": [
       "<IPython.core.display.Image object>"
      ]
     },
     "execution_count": 13,
     "metadata": {},
     "output_type": "execute_result"
    }
   ],
   "source": [
    "plot_model(model2,show_shapes=True)"
   ]
  },
  {
   "cell_type": "code",
   "execution_count": 14,
   "metadata": {},
   "outputs": [
    {
     "name": "stdout",
     "output_type": "stream",
     "text": [
      "Epoch 1/50\n",
      "1814/1814 [==============================] - 0s 150us/step - loss: 54.9684 - accuracy: 0.5562\n",
      "Epoch 2/50\n",
      "1814/1814 [==============================] - 0s 94us/step - loss: 5.9330 - accuracy: 0.6295\n",
      "Epoch 3/50\n",
      "1814/1814 [==============================] - 0s 84us/step - loss: 3.9483 - accuracy: 0.6825\n",
      "Epoch 4/50\n",
      "1814/1814 [==============================] - 0s 60us/step - loss: 3.1326 - accuracy: 0.6979\n",
      "Epoch 5/50\n",
      "1814/1814 [==============================] - 0s 49us/step - loss: 2.4713 - accuracy: 0.7310\n",
      "Epoch 6/50\n",
      "1814/1814 [==============================] - 0s 43us/step - loss: 2.0577 - accuracy: 0.7558\n",
      "Epoch 7/50\n",
      "1814/1814 [==============================] - 0s 42us/step - loss: 1.6973 - accuracy: 0.7696\n",
      "Epoch 8/50\n",
      "1814/1814 [==============================] - 0s 49us/step - loss: 1.4663 - accuracy: 0.7949\n",
      "Epoch 9/50\n",
      "1814/1814 [==============================] - 0s 49us/step - loss: 1.2310 - accuracy: 0.8131\n",
      "Epoch 10/50\n",
      "1814/1814 [==============================] - 0s 45us/step - loss: 1.0765 - accuracy: 0.8258\n",
      "Epoch 11/50\n",
      "1814/1814 [==============================] - 0s 45us/step - loss: 0.9043 - accuracy: 0.8578\n",
      "Epoch 12/50\n",
      "1814/1814 [==============================] - 0s 51us/step - loss: 0.7430 - accuracy: 0.8688\n",
      "Epoch 13/50\n",
      "1814/1814 [==============================] - 0s 73us/step - loss: 0.6982 - accuracy: 0.8809\n",
      "Epoch 14/50\n",
      "1814/1814 [==============================] - 0s 77us/step - loss: 0.7636 - accuracy: 0.8815\n",
      "Epoch 15/50\n",
      "1814/1814 [==============================] - 0s 49us/step - loss: 0.7961 - accuracy: 0.8782\n",
      "Epoch 16/50\n",
      "1814/1814 [==============================] - 0s 47us/step - loss: 0.6791 - accuracy: 0.8859\n",
      "Epoch 17/50\n",
      "1814/1814 [==============================] - 0s 46us/step - loss: 0.5571 - accuracy: 0.9052\n",
      "Epoch 18/50\n",
      "1814/1814 [==============================] - 0s 45us/step - loss: 0.5225 - accuracy: 0.9008\n",
      "Epoch 19/50\n",
      "1814/1814 [==============================] - 0s 45us/step - loss: 0.5373 - accuracy: 0.9008\n",
      "Epoch 20/50\n",
      "1814/1814 [==============================] - 0s 45us/step - loss: 0.4943 - accuracy: 0.9002\n",
      "Epoch 21/50\n",
      "1814/1814 [==============================] - 0s 49us/step - loss: 0.4738 - accuracy: 0.9024\n",
      "Epoch 22/50\n",
      "1814/1814 [==============================] - 0s 53us/step - loss: 0.4820 - accuracy: 0.9278\n",
      "Epoch 23/50\n",
      "1814/1814 [==============================] - 0s 80us/step - loss: 0.5669 - accuracy: 0.9035\n",
      "Epoch 24/50\n",
      "1814/1814 [==============================] - 0s 68us/step - loss: 0.7331 - accuracy: 0.8837\n",
      "Epoch 25/50\n",
      "1814/1814 [==============================] - 0s 48us/step - loss: 0.8682 - accuracy: 0.8953\n",
      "Epoch 26/50\n",
      "1814/1814 [==============================] - 0s 45us/step - loss: 1.0195 - accuracy: 0.8765\n",
      "Epoch 27/50\n",
      "1814/1814 [==============================] - 0s 45us/step - loss: 0.9751 - accuracy: 0.8677\n",
      "Epoch 28/50\n",
      "1814/1814 [==============================] - 0s 44us/step - loss: 0.7260 - accuracy: 0.8969\n",
      "Epoch 29/50\n",
      "1814/1814 [==============================] - 0s 78us/step - loss: 0.5752 - accuracy: 0.9052\n",
      "Epoch 30/50\n",
      "1814/1814 [==============================] - 0s 69us/step - loss: 0.5866 - accuracy: 0.9090\n",
      "Epoch 31/50\n",
      "1814/1814 [==============================] - 0s 51us/step - loss: 0.5220 - accuracy: 0.9206\n",
      "Epoch 32/50\n",
      "1814/1814 [==============================] - 0s 45us/step - loss: 0.3951 - accuracy: 0.9146\n",
      "Epoch 33/50\n",
      "1814/1814 [==============================] - 0s 46us/step - loss: 0.3092 - accuracy: 0.9272\n",
      "Epoch 34/50\n",
      "1814/1814 [==============================] - 0s 44us/step - loss: 0.2402 - accuracy: 0.9383\n",
      "Epoch 35/50\n",
      "1814/1814 [==============================] - 0s 52us/step - loss: 0.2519 - accuracy: 0.9399\n",
      "Epoch 36/50\n",
      "1814/1814 [==============================] - 0s 65us/step - loss: 0.2766 - accuracy: 0.9305\n",
      "Epoch 37/50\n",
      "1814/1814 [==============================] - 0s 56us/step - loss: 0.2451 - accuracy: 0.9283\n",
      "Epoch 38/50\n",
      "1814/1814 [==============================] - 0s 51us/step - loss: 0.2389 - accuracy: 0.9383\n",
      "Epoch 39/50\n",
      "1814/1814 [==============================] - 0s 55us/step - loss: 0.2653 - accuracy: 0.9327\n",
      "Epoch 40/50\n",
      "1814/1814 [==============================] - 0s 102us/step - loss: 0.2857 - accuracy: 0.9283\n",
      "Epoch 41/50\n",
      "1814/1814 [==============================] - 0s 58us/step - loss: 0.3154 - accuracy: 0.9283\n",
      "Epoch 42/50\n",
      "1814/1814 [==============================] - 0s 45us/step - loss: 0.3515 - accuracy: 0.9223\n",
      "Epoch 43/50\n",
      "1814/1814 [==============================] - 0s 44us/step - loss: 0.3946 - accuracy: 0.9168\n",
      "Epoch 44/50\n",
      "1814/1814 [==============================] - 0s 50us/step - loss: 0.4790 - accuracy: 0.9135\n",
      "Epoch 45/50\n",
      "1814/1814 [==============================] - 0s 93us/step - loss: 0.4820 - accuracy: 0.9068\n",
      "Epoch 46/50\n",
      "1814/1814 [==============================] - 0s 65us/step - loss: 0.4703 - accuracy: 0.9107\n",
      "Epoch 47/50\n",
      "1814/1814 [==============================] - 0s 52us/step - loss: 0.4795 - accuracy: 0.9041\n",
      "Epoch 48/50\n",
      "1814/1814 [==============================] - 0s 49us/step - loss: 0.4700 - accuracy: 0.9190\n",
      "Epoch 49/50\n",
      "1814/1814 [==============================] - 0s 50us/step - loss: 0.4708 - accuracy: 0.9041\n",
      "Epoch 50/50\n",
      "1814/1814 [==============================] - 0s 65us/step - loss: 0.3763 - accuracy: 0.9123\n"
     ]
    },
    {
     "data": {
      "text/plain": [
       "<keras.callbacks.callbacks.History at 0x7fb1cdd00ed0>"
      ]
     },
     "execution_count": 14,
     "metadata": {},
     "output_type": "execute_result"
    }
   ],
   "source": [
    "#-- Train model\n",
    "model2.fit(x_train.reshape(x_train.shape[0],x_train.shape[1]*x_train.shape[2]),\\\n",
    "          y_train, epochs=50, batch_size=30)"
   ]
  },
  {
   "cell_type": "code",
   "execution_count": 15,
   "metadata": {},
   "outputs": [
    {
     "name": "stdout",
     "output_type": "stream",
     "text": [
      "200/200 [==============================] - 0s 146us/step\n"
     ]
    },
    {
     "data": {
      "text/plain": [
       "[3.8672888565063475, 0.7099999785423279]"
      ]
     },
     "execution_count": 15,
     "metadata": {},
     "output_type": "execute_result"
    }
   ],
   "source": [
    "#-- evaluate on test data\n",
    "model2.evaluate(x=x_test.reshape(x_test.shape[0],x_test.shape[1]*x_test.shape[2]), y=y_test, verbose=1)"
   ]
  },
  {
   "cell_type": "code",
   "execution_count": 16,
   "metadata": {},
   "outputs": [
    {
     "name": "stdout",
     "output_type": "stream",
     "text": [
      "1814/1814 [==============================] - 0s 22us/step\n"
     ]
    },
    {
     "data": {
      "text/plain": [
       "[0.33910444132416884, 0.9222712516784668]"
      ]
     },
     "execution_count": 16,
     "metadata": {},
     "output_type": "execute_result"
    }
   ],
   "source": [
    "#-- Also evaluate on train data\n",
    "model2.evaluate(x=x_train.reshape(x_train.shape[0],x_train.shape[1]*x_train.shape[2]), y=y_train, verbose=1)"
   ]
  },
  {
   "cell_type": "markdown",
   "metadata": {},
   "source": [
    "We see that the network is able to recover the regression coefficients with high accuracy for the train data and reasonable accuracy for the test data."
   ]
  }
 ],
 "metadata": {
  "kernelspec": {
   "display_name": "Python 3.7.4 64-bit ('base': conda)",
   "language": "python",
   "name": "python37464bitbasecondaeab7d041c0774890a74969d299d600af"
  },
  "language_info": {
   "codemirror_mode": {
    "name": "ipython",
    "version": 3
   },
   "file_extension": ".py",
   "mimetype": "text/x-python",
   "name": "python",
   "nbconvert_exporter": "python",
   "pygments_lexer": "ipython3",
   "version": "3.7.4"
  }
 },
 "nbformat": 4,
 "nbformat_minor": 4
}
